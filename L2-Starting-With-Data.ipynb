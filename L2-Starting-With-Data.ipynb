{
 "cells": [
  {
   "cell_type": "markdown",
   "metadata": {},
   "source": [
    "# Read-in the Data"
   ]
  },
  {
   "cell_type": "markdown",
   "metadata": {},
   "source": [
    "Let's begin with read-in the data file.\n",
    "\n",
    "This data is about the populations in each year. \n",
    "\n",
    "We can read the file one line at a time and split each line using tab as a delimiter. Each row is added as a list to a table (in this case a list of lists)."
   ]
  },
  {
   "cell_type": "code",
   "execution_count": 2,
   "metadata": {
    "collapsed": true
   },
   "outputs": [],
   "source": [
    "my_data = open('./data/populations.txt', 'r')"
   ]
  },
  {
   "cell_type": "code",
   "execution_count": 3,
   "metadata": {
    "collapsed": false
   },
   "outputs": [
    {
     "name": "stdout",
     "output_type": "stream",
     "text": [
      "[1900, 30000.0, 4000.0, 48300.0]\n",
      "[1901, 47200.0, 6100.0, 48200.0]\n",
      "[1902, 70200.0, 9800.0, 41500.0]\n",
      "[1903, 77400.0, 35200.0, 38200.0]\n",
      "[1904, 36300.0, 59400.0, 40600.0]\n",
      "[1905, 20600.0, 41700.0, 39800.0]\n",
      "[1906, 18100.0, 19000.0, 38600.0]\n",
      "[1907, 21400.0, 13000.0, 42300.0]\n",
      "[1908, 22000.0, 8300.0, 44500.0]\n",
      "[1909, 25400.0, 9100.0, 42100.0]\n",
      "[1910, 27100.0, 7400.0, 46000.0]\n",
      "[1911, 40300.0, 8000.0, 46800.0]\n",
      "[1912, 57000.0, 12300.0, 43800.0]\n",
      "[1913, 76600.0, 19500.0, 40900.0]\n",
      "[1914, 52300.0, 45700.0, 39400.0]\n",
      "[1915, 19500.0, 51100.0, 39000.0]\n",
      "[1916, 11200.0, 29700.0, 36700.0]\n",
      "[1917, 7600.0, 15800.0, 41800.0]\n",
      "[1918, 14600.0, 9700.0, 43300.0]\n",
      "[1919, 16200.0, 10100.0, 41300.0]\n",
      "[1920, 24700.0, 8600.0, 47300.0]\n",
      "21\n"
     ]
    }
   ],
   "source": [
    "labels_line = my_data.readline().strip()\n",
    "poptable = []\n",
    "total = 0\n",
    "for line in my_data.readlines():\n",
    "    line = line.strip()\n",
    "    row = line.split(\"\\t\")\n",
    "    record = [int(row[0]),float(row[1]),float(row[2]), float(row[3])]\n",
    "    print (record)\n",
    "    poptable.append(record)\n",
    "    total += 1\n",
    "print (total)"
   ]
  },
  {
   "cell_type": "code",
   "execution_count": 4,
   "metadata": {
    "collapsed": false
   },
   "outputs": [
    {
     "name": "stdout",
     "output_type": "stream",
     "text": [
      "[[1900, 30000.0, 4000.0, 48300.0], [1901, 47200.0, 6100.0, 48200.0], [1902, 70200.0, 9800.0, 41500.0], [1903, 77400.0, 35200.0, 38200.0], [1904, 36300.0, 59400.0, 40600.0], [1905, 20600.0, 41700.0, 39800.0], [1906, 18100.0, 19000.0, 38600.0], [1907, 21400.0, 13000.0, 42300.0], [1908, 22000.0, 8300.0, 44500.0], [1909, 25400.0, 9100.0, 42100.0], [1910, 27100.0, 7400.0, 46000.0], [1911, 40300.0, 8000.0, 46800.0], [1912, 57000.0, 12300.0, 43800.0], [1913, 76600.0, 19500.0, 40900.0], [1914, 52300.0, 45700.0, 39400.0], [1915, 19500.0, 51100.0, 39000.0], [1916, 11200.0, 29700.0, 36700.0], [1917, 7600.0, 15800.0, 41800.0], [1918, 14600.0, 9700.0, 43300.0], [1919, 16200.0, 10100.0, 41300.0], [1920, 24700.0, 8600.0, 47300.0]]\n"
     ]
    }
   ],
   "source": [
    "print (poptable)"
   ]
  },
  {
   "cell_type": "code",
   "execution_count": 5,
   "metadata": {
    "collapsed": false
   },
   "outputs": [
    {
     "name": "stdout",
     "output_type": "stream",
     "text": [
      "[[1900, 30000.0, 4000.0, 48300.0], [1901, 47200.0, 6100.0, 48200.0], [1902, 70200.0, 9800.0, 41500.0], [1903, 77400.0, 35200.0, 38200.0], [1904, 36300.0, 59400.0, 40600.0]]\n"
     ]
    }
   ],
   "source": [
    "# printing the top5 elements (rows) of poptable from index 0 upto (but not including) index 5\n",
    "print (poptable[0:5])"
   ]
  },
  {
   "cell_type": "markdown",
   "metadata": {},
   "source": [
    "# Define the Data\n",
    "\n",
    "Following is an example of creating Python dictionaries for each of the species in the data. The year (in the first) column is used as the key for the population value of each of the species for that year."
   ]
  },
  {
   "cell_type": "code",
   "execution_count": 6,
   "metadata": {
    "collapsed": true
   },
   "outputs": [],
   "source": [
    "hares = {}\n",
    "lynxes = {}\n",
    "carrots = {}\n",
    "for row in poptable:\n",
    "    hares[row[0]] = row[1]\n",
    "    lynxes[row[0]] = row[2]\n",
    "    carrots[row[0]] = row[3]\n"
   ]
  },
  {
   "cell_type": "code",
   "execution_count": 7,
   "metadata": {
    "collapsed": false
   },
   "outputs": [
    {
     "name": "stdout",
     "output_type": "stream",
     "text": [
      "{1900: 30000.0, 1901: 47200.0, 1902: 70200.0, 1903: 77400.0, 1904: 36300.0, 1905: 20600.0, 1906: 18100.0, 1907: 21400.0, 1908: 22000.0, 1909: 25400.0, 1910: 27100.0, 1911: 40300.0, 1912: 57000.0, 1913: 76600.0, 1914: 52300.0, 1915: 19500.0, 1916: 11200.0, 1917: 7600.0, 1918: 14600.0, 1919: 16200.0, 1920: 24700.0}\n"
     ]
    }
   ],
   "source": [
    "print(hares)"
   ]
  },
  {
   "cell_type": "markdown",
   "metadata": {},
   "source": [
    "This is useful if we need to access information regarding one of the species for a specified year."
   ]
  },
  {
   "cell_type": "code",
   "execution_count": 8,
   "metadata": {
    "collapsed": false
   },
   "outputs": [
    {
     "name": "stdout",
     "output_type": "stream",
     "text": [
      "77400.0\n"
     ]
    }
   ],
   "source": [
    "print (hares[1903])"
   ]
  },
  {
   "cell_type": "code",
   "execution_count": 9,
   "metadata": {
    "collapsed": false
   },
   "outputs": [
    {
     "name": "stdout",
     "output_type": "stream",
     "text": [
      "[1902, 1903, 1912, 1913, 1914]\n"
     ]
    }
   ],
   "source": [
    "# finding the years during which the population of hares was greater than 50K\n",
    "# Here we'll use standard Python list comprehensions\n",
    "\n",
    "hares_above_50k = [yr for yr in hares.keys() if hares[yr]>50000.0]\n",
    "print (hares_above_50k)"
   ]
  },
  {
   "cell_type": "code",
   "execution_count": 10,
   "metadata": {
    "collapsed": false
   },
   "outputs": [
    {
     "name": "stdout",
     "output_type": "stream",
     "text": [
      "1903 77400.0\n"
     ]
    }
   ],
   "source": [
    "# Finding the year(s) with maximal value of Hares\n",
    "\n",
    "maxhares = [yr for yr in hares.keys() if hares[yr] == max(hares.values())]\n",
    "for i in range(0,len(maxhares)):\n",
    "    print (maxhares[i], hares[maxhares[i]])"
   ]
  },
  {
   "cell_type": "markdown",
   "metadata": {},
   "source": [
    "So far, we have not used Numpy, only standard Python. But, many operations on data involving tables or matrices are much simpler and more efficient using Numpy. Let's now try using NumPy arrays:"
   ]
  },
  {
   "cell_type": "code",
   "execution_count": 11,
   "metadata": {
    "collapsed": true
   },
   "outputs": [],
   "source": [
    "import numpy as np"
   ]
  },
  {
   "cell_type": "markdown",
   "metadata": {},
   "source": [
    "If we want to use the Python list already created, we must first convert it to a 2D NumPy array:"
   ]
  },
  {
   "cell_type": "code",
   "execution_count": 12,
   "metadata": {
    "collapsed": false
   },
   "outputs": [
    {
     "name": "stdout",
     "output_type": "stream",
     "text": [
      "[[ 1900. 30000.  4000. 48300.]\n",
      " [ 1901. 47200.  6100. 48200.]\n",
      " [ 1902. 70200.  9800. 41500.]\n",
      " [ 1903. 77400. 35200. 38200.]\n",
      " [ 1904. 36300. 59400. 40600.]\n",
      " [ 1905. 20600. 41700. 39800.]\n",
      " [ 1906. 18100. 19000. 38600.]\n",
      " [ 1907. 21400. 13000. 42300.]\n",
      " [ 1908. 22000.  8300. 44500.]\n",
      " [ 1909. 25400.  9100. 42100.]\n",
      " [ 1910. 27100.  7400. 46000.]\n",
      " [ 1911. 40300.  8000. 46800.]\n",
      " [ 1912. 57000. 12300. 43800.]\n",
      " [ 1913. 76600. 19500. 40900.]\n",
      " [ 1914. 52300. 45700. 39400.]\n",
      " [ 1915. 19500. 51100. 39000.]\n",
      " [ 1916. 11200. 29700. 36700.]\n",
      " [ 1917.  7600. 15800. 41800.]\n",
      " [ 1918. 14600.  9700. 43300.]\n",
      " [ 1919. 16200. 10100. 41300.]\n",
      " [ 1920. 24700.  8600. 47300.]]\n"
     ]
    }
   ],
   "source": [
    "pop = np.array(poptable)\n",
    "print (pop)"
   ]
  },
  {
   "cell_type": "markdown",
   "metadata": {},
   "source": [
    "However, we could have, from the start, loaded the data into a Numpy array. One way to do this is via \"loadtxt\" which reads numerical values from tab-delimited or CSV files (converted into floats)."
   ]
  },
  {
   "cell_type": "code",
   "execution_count": 13,
   "metadata": {
    "collapsed": false
   },
   "outputs": [
    {
     "name": "stdout",
     "output_type": "stream",
     "text": [
      "[[ 1900. 30000.  4000. 48300.]\n",
      " [ 1901. 47200.  6100. 48200.]\n",
      " [ 1902. 70200.  9800. 41500.]\n",
      " [ 1903. 77400. 35200. 38200.]\n",
      " [ 1904. 36300. 59400. 40600.]\n",
      " [ 1905. 20600. 41700. 39800.]\n",
      " [ 1906. 18100. 19000. 38600.]\n",
      " [ 1907. 21400. 13000. 42300.]\n",
      " [ 1908. 22000.  8300. 44500.]\n",
      " [ 1909. 25400.  9100. 42100.]\n",
      " [ 1910. 27100.  7400. 46000.]\n",
      " [ 1911. 40300.  8000. 46800.]\n",
      " [ 1912. 57000. 12300. 43800.]\n",
      " [ 1913. 76600. 19500. 40900.]\n",
      " [ 1914. 52300. 45700. 39400.]\n",
      " [ 1915. 19500. 51100. 39000.]\n",
      " [ 1916. 11200. 29700. 36700.]\n",
      " [ 1917.  7600. 15800. 41800.]\n",
      " [ 1918. 14600.  9700. 43300.]\n",
      " [ 1919. 16200. 10100. 41300.]\n",
      " [ 1920. 24700.  8600. 47300.]]\n"
     ]
    }
   ],
   "source": [
    "poptable = np.loadtxt('./data/populations.txt', skiprows=1)\n",
    "print (poptable)"
   ]
  },
  {
   "cell_type": "code",
   "execution_count": 14,
   "metadata": {
    "collapsed": false
   },
   "outputs": [
    {
     "data": {
      "text/plain": [
       "(21, 4)"
      ]
     },
     "execution_count": 14,
     "metadata": {},
     "output_type": "execute_result"
    }
   ],
   "source": [
    "poptable.shape"
   ]
  },
  {
   "cell_type": "markdown",
   "metadata": {},
   "source": [
    "Note that poptable is a 21x4 2-d Numpy array (a matrix)\n",
    "In fact, we can assign each column directly into separate 1-d arrays, by splitting the transpose of poptable:"
   ]
  },
  {
   "cell_type": "code",
   "execution_count": 15,
   "metadata": {
    "collapsed": false
   },
   "outputs": [
    {
     "name": "stdout",
     "output_type": "stream",
     "text": [
      "[1900. 1901. 1902. 1903. 1904. 1905. 1906. 1907. 1908. 1909. 1910. 1911.\n",
      " 1912. 1913. 1914. 1915. 1916. 1917. 1918. 1919. 1920.]\n",
      "[30000. 47200. 70200. 77400. 36300. 20600. 18100. 21400. 22000. 25400.\n",
      " 27100. 40300. 57000. 76600. 52300. 19500. 11200.  7600. 14600. 16200.\n",
      " 24700.]\n",
      "Mean Hare Population:  34080.95238095238\n"
     ]
    }
   ],
   "source": [
    "year, hares, lynxes, carrots = poptable.T\n",
    "print (year)\n",
    "print (hares)\n",
    "print (\"Mean Hare Population: \", hares.mean())"
   ]
  },
  {
   "cell_type": "markdown",
   "metadata": {},
   "source": [
    "Numpy allows us to easily perform operations on rows, columns, or to the whole array:"
   ]
  },
  {
   "cell_type": "markdown",
   "metadata": {},
   "source": [
    "# Data Exploration with Numpy"
   ]
  },
  {
   "cell_type": "code",
   "execution_count": 16,
   "metadata": {
    "collapsed": false
   },
   "outputs": [
    {
     "name": "stdout",
     "output_type": "stream",
     "text": [
      "[False False  True  True  True False False False False False False False\n",
      "  True  True  True  True False False False False False]\n",
      "[1902. 1903. 1904. 1912. 1913. 1914. 1915.]\n"
     ]
    }
   ],
   "source": [
    "# finding all years when the population of one of the species is above 50k\n",
    "\n",
    "above_50k = np.any(poptable>50000, axis=1) # axis=1 means the operation will be performed across columns\n",
    "print (above_50k)\n",
    "print (year[above_50k])"
   ]
  },
  {
   "cell_type": "markdown",
   "metadata": {},
   "source": [
    "Let's print some summary statistics on each of the species:"
   ]
  },
  {
   "cell_type": "code",
   "execution_count": 17,
   "metadata": {
    "collapsed": false
   },
   "outputs": [
    {
     "name": "stdout",
     "output_type": "stream",
     "text": [
      "        Hares           Lynxes          Carrots\n",
      "Mean: [34080.95238095 20166.66666667 42400.        ]\n",
      "Std:  [20897.90645809 16254.59153691  3322.50622558]\n"
     ]
    }
   ],
   "source": [
    "pop_no_year = poptable[:,1:] # Removing the first column (\"Year\")\n",
    "print (\"        Hares           Lynxes          Carrots\")\n",
    "print (\"Mean:\", pop_no_year.mean(axis=0))\n",
    "print (\"Std: \", pop_no_year.std(axis=0))"
   ]
  },
  {
   "cell_type": "code",
   "execution_count": 18,
   "metadata": {
    "collapsed": false
   },
   "outputs": [
    {
     "name": "stdout",
     "output_type": "stream",
     "text": [
      "Indecies for the maximums: [3 4 0]\n",
      "          Hares  Lynxes Carrots\n",
      "Max. year: [1903. 1904. 1900.]\n"
     ]
    }
   ],
   "source": [
    "# Finding indecies of years when one of the populations was at max\n",
    "j_max_years = np.argmax(pop_no_year, axis=0) # ranging over rows for each column\n",
    "print (\"Indecies for the maximums:\", j_max_years)\n",
    "print (\"          Hares  Lynxes Carrots\")\n",
    "print (\"Max. year:\", year[j_max_years])"
   ]
  },
  {
   "cell_type": "code",
   "execution_count": 19,
   "metadata": {
    "collapsed": false
   },
   "outputs": [
    {
     "name": "stdout",
     "output_type": "stream",
     "text": [
      "[2 2 0 0 1 1 2 2 2 2 2 2 0 0 0 1 2 2 2 2 2]\n",
      "Max specie from 1900 to 1920:\n",
      "['Carrot' 'Carrot' 'Hare' 'Hare' 'Lynx' 'Lynx' 'Carrot' 'Carrot' 'Carrot'\n",
      " 'Carrot' 'Carrot' 'Carrot' 'Hare' 'Hare' 'Hare' 'Lynx' 'Carrot' 'Carrot'\n",
      " 'Carrot' 'Carrot' 'Carrot']\n"
     ]
    }
   ],
   "source": [
    "# Ranging over cols for each row, find the specie with the highest pop for each year\n",
    "max_species = np.argmax(pop_no_year, axis=1)\n",
    "species = np.array(['Hare', 'Lynx', 'Carrot'])\n",
    "print (max_species)\n",
    "print (\"Max specie from 1900 to 1920:\")\n",
    "print (species[max_species])"
   ]
  },
  {
   "cell_type": "markdown",
   "metadata": {},
   "source": [
    "We can look at correlations among the three population variables."
   ]
  },
  {
   "cell_type": "code",
   "execution_count": 20,
   "metadata": {
    "collapsed": false
   },
   "outputs": [
    {
     "name": "stdout",
     "output_type": "stream",
     "text": [
      "[[ 1.          0.07189206 -0.01660378]\n",
      " [ 0.07189206  1.         -0.68057717]\n",
      " [-0.01660378 -0.68057717  1.        ]]\n"
     ]
    }
   ],
   "source": [
    "corr_matrix = np.corrcoef(pop_no_year.T)\n",
    "print (corr_matrix)"
   ]
  },
  {
   "cell_type": "markdown",
   "metadata": {},
   "source": [
    "Now let's look at multi-dimensional sorting. In order to sort by a particular field in the data, we need to convert into a strucutred array with keys."
   ]
  },
  {
   "cell_type": "code",
   "execution_count": 21,
   "metadata": {
    "collapsed": true
   },
   "outputs": [],
   "source": [
    "pop_with_keys = poptable.view(dtype=[('year', 'float'), ('hares', 'float'), ('lynxes', 'float'), ('carrots', 'float')])"
   ]
  },
  {
   "cell_type": "code",
   "execution_count": 22,
   "metadata": {
    "collapsed": false
   },
   "outputs": [
    {
     "data": {
      "text/plain": [
       "array([[(1900., 30000.,  4000., 48300.)],\n",
       "       [(1901., 47200.,  6100., 48200.)],\n",
       "       [(1902., 70200.,  9800., 41500.)],\n",
       "       [(1903., 77400., 35200., 38200.)],\n",
       "       [(1904., 36300., 59400., 40600.)],\n",
       "       [(1905., 20600., 41700., 39800.)],\n",
       "       [(1906., 18100., 19000., 38600.)],\n",
       "       [(1907., 21400., 13000., 42300.)],\n",
       "       [(1908., 22000.,  8300., 44500.)],\n",
       "       [(1909., 25400.,  9100., 42100.)],\n",
       "       [(1910., 27100.,  7400., 46000.)],\n",
       "       [(1911., 40300.,  8000., 46800.)],\n",
       "       [(1912., 57000., 12300., 43800.)],\n",
       "       [(1913., 76600., 19500., 40900.)],\n",
       "       [(1914., 52300., 45700., 39400.)],\n",
       "       [(1915., 19500., 51100., 39000.)],\n",
       "       [(1916., 11200., 29700., 36700.)],\n",
       "       [(1917.,  7600., 15800., 41800.)],\n",
       "       [(1918., 14600.,  9700., 43300.)],\n",
       "       [(1919., 16200., 10100., 41300.)],\n",
       "       [(1920., 24700.,  8600., 47300.)]],\n",
       "      dtype=[('year', '<f8'), ('hares', '<f8'), ('lynxes', '<f8'), ('carrots', '<f8')])"
      ]
     },
     "execution_count": 22,
     "metadata": {},
     "output_type": "execute_result"
    }
   ],
   "source": [
    "pop_with_keys"
   ]
  },
  {
   "cell_type": "markdown",
   "metadata": {},
   "source": [
    "Now, array columns can be accessed directly with the appropriate key label:"
   ]
  },
  {
   "cell_type": "code",
   "execution_count": 23,
   "metadata": {
    "collapsed": false
   },
   "outputs": [
    {
     "name": "stdout",
     "output_type": "stream",
     "text": [
      "[[30000.]\n",
      " [47200.]\n",
      " [70200.]\n",
      " [77400.]\n",
      " [36300.]\n",
      " [20600.]\n",
      " [18100.]\n",
      " [21400.]\n",
      " [22000.]\n",
      " [25400.]\n",
      " [27100.]\n",
      " [40300.]\n",
      " [57000.]\n",
      " [76600.]\n",
      " [52300.]\n",
      " [19500.]\n",
      " [11200.]\n",
      " [ 7600.]\n",
      " [14600.]\n",
      " [16200.]\n",
      " [24700.]]\n"
     ]
    }
   ],
   "source": [
    "print (pop_with_keys['hares'])"
   ]
  },
  {
   "cell_type": "markdown",
   "metadata": {},
   "source": [
    "Now we can do sorting using the desired label. For example, we can sort the table using the 'hares' field:"
   ]
  },
  {
   "cell_type": "code",
   "execution_count": 24,
   "metadata": {
    "collapsed": false
   },
   "outputs": [
    {
     "name": "stdout",
     "output_type": "stream",
     "text": [
      "[[(1917.,  7600., 15800., 41800.)]\n",
      " [(1916., 11200., 29700., 36700.)]\n",
      " [(1918., 14600.,  9700., 43300.)]\n",
      " [(1919., 16200., 10100., 41300.)]\n",
      " [(1906., 18100., 19000., 38600.)]\n",
      " [(1915., 19500., 51100., 39000.)]\n",
      " [(1905., 20600., 41700., 39800.)]\n",
      " [(1907., 21400., 13000., 42300.)]\n",
      " [(1908., 22000.,  8300., 44500.)]\n",
      " [(1920., 24700.,  8600., 47300.)]\n",
      " [(1909., 25400.,  9100., 42100.)]\n",
      " [(1910., 27100.,  7400., 46000.)]\n",
      " [(1900., 30000.,  4000., 48300.)]\n",
      " [(1904., 36300., 59400., 40600.)]\n",
      " [(1911., 40300.,  8000., 46800.)]\n",
      " [(1901., 47200.,  6100., 48200.)]\n",
      " [(1914., 52300., 45700., 39400.)]\n",
      " [(1912., 57000., 12300., 43800.)]\n",
      " [(1902., 70200.,  9800., 41500.)]\n",
      " [(1913., 76600., 19500., 40900.)]\n",
      " [(1903., 77400., 35200., 38200.)]]\n"
     ]
    }
   ],
   "source": [
    "sorted_by_hares = np.sort(pop_with_keys, order='hares', axis=0)\n",
    "print (sorted_by_hares)"
   ]
  },
  {
   "cell_type": "markdown",
   "metadata": {},
   "source": [
    "# More Data Exploration with Matplotlib"
   ]
  },
  {
   "cell_type": "code",
   "execution_count": 25,
   "metadata": {
    "collapsed": true
   },
   "outputs": [],
   "source": [
    "import matplotlib.pyplot as plt\n",
    "plt.style.use('ggplot')\n",
    "%matplotlib inline"
   ]
  },
  {
   "cell_type": "code",
   "execution_count": 26,
   "metadata": {
    "collapsed": false
   },
   "outputs": [
    {
     "data": {
      "text/plain": [
       "[<matplotlib.lines.Line2D at 0x7f2457e6e710>]"
      ]
     },
     "execution_count": 26,
     "metadata": {},
     "output_type": "execute_result"
    },
    {
     "data": {
      "image/png": "[encoded data removed]",
      "text/plain": [
       "<Figure size 432x288 with 1 Axes>"
      ]
     },
     "metadata": {
      "needs_background": "light"
     },
     "output_type": "display_data"
    }
   ],
   "source": [
    "plt.plot(year, hares)"
   ]
  },
  {
   "cell_type": "code",
   "execution_count": 27,
   "metadata": {
    "collapsed": false
   },
   "outputs": [
    {
     "data": {
      "image/png": "[encoded data removed]",
      "text/plain": [
       "<Figure size 432x288 with 1 Axes>"
      ]
     },
     "metadata": {
      "needs_background": "light"
     },
     "output_type": "display_data"
    }
   ],
   "source": [
    "plt.plot(year, hares, label='Hares')\n",
    "plt.plot(year, lynxes, label='Lynxes')\n",
    "plt.plot(year, carrots, label='Carrots')\n",
    "plt.legend( ('Hares','Lynxes','Carrots') )\n",
    "plt.ylabel('Population')\n",
    "plt.xlabel('Year')\n",
    "plt.show()"
   ]
  },
  {
   "cell_type": "code",
   "execution_count": 28,
   "metadata": {
    "collapsed": false
   },
   "outputs": [
    {
     "data": {
      "text/plain": [
       "[35000, 50000, 0, 6]"
      ]
     },
     "execution_count": 28,
     "metadata": {},
     "output_type": "execute_result"
    },
    {
     "data": {
      "image/png": "[encoded data removed]",
      "text/plain": [
       "<Figure size 432x288 with 1 Axes>"
      ]
     },
     "metadata": {
      "needs_background": "light"
     },
     "output_type": "display_data"
    }
   ],
   "source": [
    "plt.hist(carrots, bins=8, alpha=0.5)\n",
    "plt.xlabel('Carrots')\n",
    "plt.ylabel('Count')\n",
    "plt.title('Histogram of Carrot Populaions')\n",
    "plt.axis([35000, 50000, 0, 6])\n",
    "#plt.grid(True)"
   ]
  },
  {
   "cell_type": "code",
   "execution_count": 29,
   "metadata": {
    "collapsed": false
   },
   "outputs": [
    {
     "data": {
      "text/plain": [
       "Text(0.5, 1.0, 'Hares v. Carrots')"
      ]
     },
     "execution_count": 29,
     "metadata": {},
     "output_type": "execute_result"
    },
    {
     "data": {
      "image/png": "[encoded data removed]",
      "text/plain": [
       "<Figure size 432x288 with 1 Axes>"
      ]
     },
     "metadata": {
      "needs_background": "light"
     },
     "output_type": "display_data"
    }
   ],
   "source": [
    "plt.scatter(hares, carrots, color=\"blue\", marker=\"*\")\n",
    "plt.xlabel('Hares')\n",
    "plt.ylabel('Carrots')\n",
    "plt.title('Hares v. Carrots')\n",
    "#plt.grid(True)"
   ]
  },
  {
   "cell_type": "code",
   "execution_count": 30,
   "metadata": {
    "collapsed": false
   },
   "outputs": [
    {
     "data": {
      "image/png": "[encoded data removed]",
      "text/plain": [
       "<Figure size 864x288 with 2 Axes>"
      ]
     },
     "metadata": {
      "needs_background": "light"
     },
     "output_type": "display_data"
    }
   ],
   "source": [
    "fig = plt.figure(figsize=(12, 4))\n",
    "# Create an Axes object.\n",
    "\n",
    "ax1 = fig.add_subplot(1,2,1) # one row, two column, first plot\n",
    "# Plot the data.\n",
    "ax1.scatter(hares, carrots, color=\"red\", marker=\"*\")\n",
    "ax1.set_title(\"Hares vs. Carrots\")\n",
    "# Add some axis labels.\n",
    "ax1.set_xlabel(\"Hare Population\")\n",
    "ax1.set_ylabel(\"Carrot Population\")\n",
    "\n",
    "\n",
    "ax2 = fig.add_subplot(1,2,2) # one row, two column, 2nd plot\n",
    "# Plot the data.\n",
    "ax2.scatter(hares, lynxes, color=\"blue\", marker=\"^\")\n",
    "\n",
    "ax2.set_title(\"Hares vs. Lynxes\")\n",
    "# Add some axis labels.\n",
    "ax2.set_xlabel(\"Hare Population\")\n",
    "ax2.set_ylabel(\"Lynx Population\")\n",
    "\n",
    "# Produce an image.\n",
    "fig.savefig(\"scatterplot.png\")"
   ]
  },
  {
   "cell_type": "code",
   "execution_count": null,
   "metadata": {},
   "outputs": [],
   "source": []
  }
 ],
 "metadata": {
  "kernelspec": {
   "display_name": "Python 3",
   "language": "python",
   "name": "python3"
  },
  "language_info": {
   "codemirror_mode": {
    "name": "ipython",
    "version": 3
   },
   "file_extension": ".py",
   "mimetype": "text/x-python",
   "name": "python",
   "nbconvert_exporter": "python",
   "pygments_lexer": "ipython3",
   "version": "3.6.7"
  }
 },
 "nbformat": 4,
 "nbformat_minor": 2
}
